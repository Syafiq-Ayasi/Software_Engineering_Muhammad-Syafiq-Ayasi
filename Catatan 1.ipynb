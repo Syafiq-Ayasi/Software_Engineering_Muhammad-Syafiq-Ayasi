{
 "cells": [
  {
   "cell_type": "code",
   "execution_count": 1,
   "id": "5f294a15",
   "metadata": {},
   "outputs": [],
   "source": [
    "#contoh contoh variabel\n",
    "a = 10 #integer\n",
    "b = 3.14 #Float\n",
    "c = \"Ayas\" #String\n",
    "d = \"A\" #String\n",
    "e = \"Sofware Engineer\" #String\n",
    "f = 'Ayas' #String\n",
    "g = 'A' #String\n",
    "h = 'Sofware Engineer' #String\n",
    "i = True #Boolean\n",
    "j = False #Boolean\n",
    "k = [] #List\n",
    "l = [1,2,3,4] #list\n",
    "m = {} #Dictionary\n",
    "n = () #Tuple\n",
    "list1 = [\"Ayas\", a, 'a']\n",
    "\n",
    "# Integer, Float, String, Boolean, List, Dictionary, Tuple"
   ]
  },
  {
   "cell_type": "code",
   "execution_count": 2,
   "id": "fc369600",
   "metadata": {},
   "outputs": [
    {
     "name": "stdout",
     "output_type": "stream",
     "text": [
      "Sofware Engineer\n",
      "[1, 2, 3, 4]\n"
     ]
    }
   ],
   "source": [
    "# Print Berguna untuk Debug\n",
    "\n",
    "print(e)\n",
    "print(l)"
   ]
  },
  {
   "cell_type": "code",
   "execution_count": 3,
   "id": "7d45a13e",
   "metadata": {},
   "outputs": [
    {
     "name": "stdout",
     "output_type": "stream",
     "text": [
      "10\n"
     ]
    }
   ],
   "source": [
    "print(2+4*2)"
   ]
  },
  {
   "cell_type": "code",
   "execution_count": 4,
   "id": "e84c1146",
   "metadata": {},
   "outputs": [
    {
     "name": "stdout",
     "output_type": "stream",
     "text": [
      "Hello wordl!\n"
     ]
    }
   ],
   "source": [
    "print(\"Hello wordl!\")"
   ]
  },
  {
   "cell_type": "code",
   "execution_count": 5,
   "id": "4b801a84",
   "metadata": {},
   "outputs": [
    {
     "name": "stdout",
     "output_type": "stream",
     "text": [
      "Hello wordl!\n"
     ]
    }
   ],
   "source": [
    "print('Hello wordl!')"
   ]
  },
  {
   "cell_type": "code",
   "execution_count": 6,
   "id": "7dfd7c28",
   "metadata": {},
   "outputs": [],
   "source": [
    "nama = \"Ayas\"\n",
    "umur = 20\n",
    "tinggal = \"Padang\""
   ]
  },
  {
   "cell_type": "code",
   "execution_count": 7,
   "id": "46debc2e",
   "metadata": {},
   "outputs": [
    {
     "name": "stdout",
     "output_type": "stream",
     "text": [
      "Hai namaku adalah Ayas\n",
      "Hai namaku adalah Ayas\n",
      "Hai namaku adalah Ayas\n",
      "Hai namaku adalah Ayas umurku 20 Aku tinggal di Padang\n"
     ]
    }
   ],
   "source": [
    "#concationation\n",
    "print(\"Hai namaku adalah \" + nama)\n",
    "print(\"Hai namaku adalah {}\".format(nama))\n",
    "print(\"Hai namaku adalah {}\".format(\"Ayas\"))\n",
    "print(\"Hai namaku adalah \" + nama + \" umurku \" + str (umur) + \" Aku tinggal di \" + tinggal)"
   ]
  },
  {
   "cell_type": "code",
   "execution_count": 8,
   "id": "b631d2ad",
   "metadata": {},
   "outputs": [
    {
     "name": "stdout",
     "output_type": "stream",
     "text": [
      "ayas\n"
     ]
    }
   ],
   "source": [
    "#Seperti scan f di C++\n",
    "nama = input()"
   ]
  },
  {
   "cell_type": "code",
   "execution_count": 9,
   "id": "1dcc722f",
   "metadata": {},
   "outputs": [
    {
     "name": "stdout",
     "output_type": "stream",
     "text": [
      "Hai namaku adalah ayas, umurku20, tinggal diPadang\n"
     ]
    }
   ],
   "source": [
    "#pakai format\n",
    "print(\"Hai namaku adalah {}, umurku{}, tinggal di{}\".format(nama,umur,tinggal))"
   ]
  },
  {
   "cell_type": "code",
   "execution_count": 10,
   "id": "9d8d1c56",
   "metadata": {},
   "outputs": [
    {
     "name": "stdout",
     "output_type": "stream",
     "text": [
      "Hai namaku adalah  ayas  umur  20  tinggal di  Padang\n"
     ]
    }
   ],
   "source": [
    "#pakai koma\n",
    "print(\"Hai namaku adalah \" , nama , \" umur \" , umur , \" tinggal di \" , tinggal)"
   ]
  },
  {
   "cell_type": "code",
   "execution_count": 11,
   "id": "03e876d2",
   "metadata": {},
   "outputs": [
    {
     "data": {
      "text/plain": [
       "2.302585092994046"
      ]
     },
     "execution_count": 11,
     "metadata": {},
     "output_type": "execute_result"
    }
   ],
   "source": [
    "import math\n",
    "a = 10\n",
    "b = 10\n",
    "# if else\n",
    "\n",
    "## Conditional Statment\n",
    "a==b #jika nilai a sama dengan b\n",
    "a != b #jika nilai a tidak sama dengan b\n",
    "a < b # A lebih kecil dari b\n",
    "a > b # a lebih besar dari b \n",
    "a>= b #a besar sama dengan b\n",
    "True and True\n",
    "False or False\n",
    "\n",
    "## Operator\n",
    "a + b\n",
    "a - b\n",
    "a * b\n",
    "a / b # 10 / 10 = 1.0\n",
    "a // b # 10 // 10 = 1\n",
    "a ** b # 10 ^ 10 = 100\n",
    "a % b\n",
    "a ** (1/2) # akar variabel a, di mana a = 10\n",
    "math.sqrt(a) # akar variabel a\n",
    "math.sin(a)\n",
    "math.tan(a)\n",
    "math.tanh(a)\n",
    "math.sinh(a)\n",
    "math.cosh(a)\n",
    "math.log(a)"
   ]
  },
  {
   "cell_type": "code",
   "execution_count": 12,
   "id": "2796ab48",
   "metadata": {},
   "outputs": [
    {
     "name": "stdout",
     "output_type": "stream",
     "text": [
      "a sama dengan 10\n",
      "ini di luar if\n"
     ]
    }
   ],
   "source": [
    "#if else\n",
    "if a == 10:\n",
    "    print(\"a sama dengan 10\")\n",
    "elif a > 10:\n",
    "    print(\"a lebih besar dari 10\")\n",
    "else:\n",
    "    print(\"a kurang dari 10\")\n",
    "print(\"ini di luar if\")"
   ]
  }
 ],
 "metadata": {
  "kernelspec": {
   "display_name": "Python 3 (ipykernel)",
   "language": "python",
   "name": "python3"
  },
  "language_info": {
   "codemirror_mode": {
    "name": "ipython",
    "version": 3
   },
   "file_extension": ".py",
   "mimetype": "text/x-python",
   "name": "python",
   "nbconvert_exporter": "python",
   "pygments_lexer": "ipython3",
   "version": "3.9.7"
  }
 },
 "nbformat": 4,
 "nbformat_minor": 5
}
