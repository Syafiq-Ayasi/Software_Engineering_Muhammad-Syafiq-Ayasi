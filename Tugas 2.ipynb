{
 "cells": [
  {
   "cell_type": "code",
   "execution_count": 4,
   "id": "95e04d00",
   "metadata": {},
   "outputs": [
    {
     "name": "stdout",
     "output_type": "stream",
     "text": [
      "Mengecek Kata Palindrom atau Bukan Palindrom\n",
      "\n",
      "Input Kata : ibi\n",
      "Result : Palindrom\n"
     ]
    }
   ],
   "source": [
    "print(\"Mengecek Kata Palindrom atau Bukan Palindrom\")\n",
    "print()\n",
    "\n",
    "kata = input(\"Input Kata : \")\n",
    "temp = \"\"\n",
    "\n",
    "for i in range(len(kata)-1, -1, -1): #Looping dari karakter / huruf terakhir\n",
    "    temp+=kata[i]\n",
    "\n",
    "print(\"Result : \", end=\"\")\n",
    "if(kata == temp): #Pengecekan kondisi dengan membandingkan kedua variabel\n",
    "    print(\"Palindrom\")\n",
    "else:\n",
    "    print(\"Bukan Palindrom\")"
   ]
  },
  {
   "cell_type": "code",
   "execution_count": null,
   "id": "395e7099",
   "metadata": {},
   "outputs": [],
   "source": []
  },
  {
   "cell_type": "code",
   "execution_count": null,
   "id": "ff25f739",
   "metadata": {},
   "outputs": [],
   "source": []
  }
 ],
 "metadata": {
  "kernelspec": {
   "display_name": "Python 3 (ipykernel)",
   "language": "python",
   "name": "python3"
  },
  "language_info": {
   "codemirror_mode": {
    "name": "ipython",
    "version": 3
   },
   "file_extension": ".py",
   "mimetype": "text/x-python",
   "name": "python",
   "nbconvert_exporter": "python",
   "pygments_lexer": "ipython3",
   "version": "3.9.7"
  }
 },
 "nbformat": 4,
 "nbformat_minor": 5
}
