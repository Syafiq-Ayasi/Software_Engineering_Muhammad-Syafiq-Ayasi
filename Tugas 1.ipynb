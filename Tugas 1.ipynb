{
 "cells": [
  {
   "cell_type": "code",
   "execution_count": 3,
   "id": "507c75b3",
   "metadata": {},
   "outputs": [
    {
     "name": "stdout",
     "output_type": "stream",
     "text": [
      "Masukan Angka 15\n",
      "kelipatan 5\n"
     ]
    }
   ],
   "source": [
    "a = int(input(\"Masukan Angka \"))\n",
    "\n",
    "if a % 5 == 0:\n",
    "    print(\"kelipatan 5\")\n",
    "else:\n",
    "    print(\"bukan kelipatan 5\")"
   ]
  },
  {
   "cell_type": "code",
   "execution_count": null,
   "id": "c49d7591",
   "metadata": {},
   "outputs": [],
   "source": []
  }
 ],
 "metadata": {
  "kernelspec": {
   "display_name": "Python 3 (ipykernel)",
   "language": "python",
   "name": "python3"
  },
  "language_info": {
   "codemirror_mode": {
    "name": "ipython",
    "version": 3
   },
   "file_extension": ".py",
   "mimetype": "text/x-python",
   "name": "python",
   "nbconvert_exporter": "python",
   "pygments_lexer": "ipython3",
   "version": "3.9.7"
  }
 },
 "nbformat": 4,
 "nbformat_minor": 5
}
