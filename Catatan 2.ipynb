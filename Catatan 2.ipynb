{
  "nbformat": 4,
  "nbformat_minor": 0,
  "metadata": {
    "colab": {
      "name": "CatatanDay2.ipynb",
      "provenance": []
    },
    "kernelspec": {
      "name": "python3",
      "display_name": "Python 3"
    },
    "language_info": {
      "name": "python"
    }
  },
  "cells": [
    {
      "cell_type": "code",
      "metadata": {
        "id": "KUUkFyQ-aYcf"
      },
      "source": [
        "# List\n",
        "# Dictionary\n",
        "# Tuple\n",
        "# Looping\n",
        "# Function"
      ],
      "execution_count": 3,
      "outputs": []
    },
    {
      "cell_type": "code",
      "metadata": {
        "colab": {
          "base_uri": "https://localhost:8080/"
        },
        "id": "97dzxk5meBi8",
        "outputId": "1e877040-5ee3-46d1-d9f7-fa26335d0b03"
      },
      "source": [
        "# List\n",
        "contoh_list = [\"Alvin\", 12, 12.0, ['David', 'Dian'], {}, (), True]\n",
        "print(contoh_list[0])\n",
        "print(contoh_list[1])\n",
        "print(contoh_list[-1])"
      ],
      "execution_count": 43,
      "outputs": [
        {
          "output_type": "stream",
          "name": "stdout",
          "text": [
            "Alvin\n",
            "12\n",
            "True\n"
          ]
        }
      ]
    },
    {
      "cell_type": "code",
      "metadata": {
        "colab": {
          "base_uri": "https://localhost:8080/"
        },
        "id": "JuUESJADpxZZ",
        "outputId": "0c2c3a55-755d-4caf-ec2c-345d43bc42cd"
      },
      "source": [
        "for i in contoh_list:\n",
        "  print(i)"
      ],
      "execution_count": 44,
      "outputs": [
        {
          "output_type": "stream",
          "name": "stdout",
          "text": [
            "Alvin\n",
            "12\n",
            "12.0\n",
            "['David', 'Dian']\n",
            "{}\n",
            "()\n",
            "True\n"
          ]
        }
      ]
    },
    {
      "cell_type": "code",
      "metadata": {
        "colab": {
          "base_uri": "https://localhost:8080/"
        },
        "id": "6KKcnslsqH-Y",
        "outputId": "9c928285-2b0d-4be4-a41d-98d3258a1d2f"
      },
      "source": [
        "list_angka = [1,2,3,4,5,6,7,8,9,0]\n",
        "for i in list_angka:\n",
        "  if i == 0:\n",
        "    print(\"Ada ankga 0 di list ini\")"
      ],
      "execution_count": 47,
      "outputs": [
        {
          "output_type": "stream",
          "name": "stdout",
          "text": [
            "Ada ankga 0 di list ini\n"
          ]
        }
      ]
    },
    {
      "cell_type": "code",
      "metadata": {
        "colab": {
          "base_uri": "https://localhost:8080/"
        },
        "id": "pIgGy_3Gqdgf",
        "outputId": "d02f6946-ee1b-4edd-eede-700a4f26ed52"
      },
      "source": [
        "# Hilaingin angka 0\n",
        "for idx, nilai in enumerate(list_angka):\n",
        "  if nilai == 0:\n",
        "    list_angka.remove(nilai)\n",
        "list_angka"
      ],
      "execution_count": 48,
      "outputs": [
        {
          "output_type": "execute_result",
          "data": {
            "text/plain": [
              "[1, 2, 3, 4, 5, 6, 7, 8, 9]"
            ]
          },
          "metadata": {},
          "execution_count": 48
        }
      ]
    },
    {
      "cell_type": "code",
      "metadata": {
        "id": "QXa9JM8Mq-uM"
      },
      "source": [
        "list_angka = [7,10,3,8,\"Alvin\",\"Dian\",8,\"Maryam\",0]"
      ],
      "execution_count": 51,
      "outputs": []
    },
    {
      "cell_type": "code",
      "metadata": {
        "colab": {
          "base_uri": "https://localhost:8080/"
        },
        "id": "IYxQ2e54rJ4-",
        "outputId": "f54d7bf7-6e3f-475d-aeb1-44593c57e403"
      },
      "source": [
        "for idx, nilai in enumerate(list_angka):\n",
        "#  print(\"indeks: {}\".format(idx))\n",
        "#  print(\"nilai: {}\".format(nilai))\n",
        "  if nilai == 0:\n",
        "    list_angka[idx] = \"Nol\"\n",
        "list_angka"
      ],
      "execution_count": 53,
      "outputs": [
        {
          "output_type": "execute_result",
          "data": {
            "text/plain": [
              "[7, 10, 3, 8, 'Alvin', 'Dian', 8, 'Maryam', 'Nol']"
            ]
          },
          "metadata": {},
          "execution_count": 53
        }
      ]
    },
    {
      "cell_type": "code",
      "metadata": {
        "colab": {
          "base_uri": "https://localhost:8080/"
        },
        "id": "urJNLS1lfJG4",
        "outputId": "7ea6ff8a-05d6-411f-f418-c742ef6440fe"
      },
      "source": [
        "# Dictionary\n",
        "contoh_dict = {2:\"Alvin\", \"Dua belas\":12, False:12.0, 3.0:['David', 'Dian'], \"Dict\":{}, 333:(), \"Boolean\":True}\n",
        "print(contoh_dict[2])\n",
        "print(contoh_dict[\"Dua belas\"])\n",
        "print(contoh_dict[False])\n",
        "print(contoh_dict[3.0])"
      ],
      "execution_count": 45,
      "outputs": [
        {
          "output_type": "stream",
          "name": "stdout",
          "text": [
            "Alvin\n",
            "12\n",
            "12.0\n",
            "['David', 'Dian']\n"
          ]
        }
      ]
    },
    {
      "cell_type": "code",
      "metadata": {
        "colab": {
          "base_uri": "https://localhost:8080/"
        },
        "id": "5cp3S4Yup3h2",
        "outputId": "87b71ad6-7015-491a-f974-8ed04acd3393"
      },
      "source": [
        "for i in contoh_dict:\n",
        "  print(i)"
      ],
      "execution_count": 46,
      "outputs": [
        {
          "output_type": "stream",
          "name": "stdout",
          "text": [
            "2\n",
            "Dua belas\n",
            "False\n",
            "3.0\n",
            "Dict\n",
            "333\n",
            "Boolean\n"
          ]
        }
      ]
    },
    {
      "cell_type": "code",
      "metadata": {
        "colab": {
          "base_uri": "https://localhost:8080/"
        },
        "id": "mXhzghg6fW1A",
        "outputId": "f0c10476-e6b4-4523-82a6-4c256568c000"
      },
      "source": [
        "# Contoh method di dict : keys()\n",
        "contoh_dict.keys()"
      ],
      "execution_count": 5,
      "outputs": [
        {
          "output_type": "execute_result",
          "data": {
            "text/plain": [
              "dict_keys([2, 'Dua belas', False, 3.0, 'Dict', 333, 'Boolean'])"
            ]
          },
          "metadata": {},
          "execution_count": 5
        }
      ]
    },
    {
      "cell_type": "code",
      "metadata": {
        "colab": {
          "base_uri": "https://localhost:8080/"
        },
        "id": "aEfC34Gvfn7n",
        "outputId": "0279aff3-bf20-4921-ce2b-cd5f10e84bb2"
      },
      "source": [
        "# Contoh method di list\n",
        "list1 = [3, 1, 2, 4, 5, 6]\n",
        "list1.append(\"Alvin\")\n",
        "list1"
      ],
      "execution_count": 6,
      "outputs": [
        {
          "output_type": "execute_result",
          "data": {
            "text/plain": [
              "[3, 1, 2, 4, 5, 6, 'Alvin']"
            ]
          },
          "metadata": {},
          "execution_count": 6
        }
      ]
    },
    {
      "cell_type": "code",
      "metadata": {
        "colab": {
          "base_uri": "https://localhost:8080/"
        },
        "id": "3TpkCWBOfaS_",
        "outputId": "b579c3ef-410f-4396-b2c3-9c9199efc06d"
      },
      "source": [
        "list1.insert(4, \"David\")\n",
        "list1"
      ],
      "execution_count": 7,
      "outputs": [
        {
          "output_type": "execute_result",
          "data": {
            "text/plain": [
              "[3, 1, 2, 4, 'David', 5, 6, 'Alvin']"
            ]
          },
          "metadata": {},
          "execution_count": 7
        }
      ]
    },
    {
      "cell_type": "code",
      "metadata": {
        "colab": {
          "base_uri": "https://localhost:8080/"
        },
        "id": "kWRLGK-HgMQW",
        "outputId": "71d729fc-35dc-4a3e-ac5e-a8c03e2b9f61"
      },
      "source": [
        "list_angka = [1,4,7,9,8]\n",
        "list_angka.sort()\n",
        "list_angka"
      ],
      "execution_count": 8,
      "outputs": [
        {
          "output_type": "execute_result",
          "data": {
            "text/plain": [
              "[1, 4, 7, 8, 9]"
            ]
          },
          "metadata": {},
          "execution_count": 8
        }
      ]
    },
    {
      "cell_type": "code",
      "metadata": {
        "colab": {
          "base_uri": "https://localhost:8080/"
        },
        "id": "S2pOMmUtgTTn",
        "outputId": "da44174b-524e-40cd-d95c-b5c40ab454f4"
      },
      "source": [
        "list_angka.sort(reverse = True)\n",
        "list_angka"
      ],
      "execution_count": 9,
      "outputs": [
        {
          "output_type": "execute_result",
          "data": {
            "text/plain": [
              "[9, 8, 7, 4, 1]"
            ]
          },
          "metadata": {},
          "execution_count": 9
        }
      ]
    },
    {
      "cell_type": "code",
      "metadata": {
        "colab": {
          "base_uri": "https://localhost:8080/"
        },
        "id": "FwqfNM2vgZEg",
        "outputId": "76119107-deeb-4a53-962c-04f9dda486d2"
      },
      "source": [
        "list_angka.pop()\n",
        "list_angka"
      ],
      "execution_count": 10,
      "outputs": [
        {
          "output_type": "execute_result",
          "data": {
            "text/plain": [
              "[9, 8, 7, 4]"
            ]
          },
          "metadata": {},
          "execution_count": 10
        }
      ]
    },
    {
      "cell_type": "code",
      "metadata": {
        "colab": {
          "base_uri": "https://localhost:8080/"
        },
        "id": "8F_bzpNVgdm3",
        "outputId": "74c23a55-33f7-4816-e6bf-6ee54e680d90"
      },
      "source": [
        "list_angka.remove(7)\n",
        "list_angka"
      ],
      "execution_count": 11,
      "outputs": [
        {
          "output_type": "execute_result",
          "data": {
            "text/plain": [
              "[9, 8, 4]"
            ]
          },
          "metadata": {},
          "execution_count": 11
        }
      ]
    },
    {
      "cell_type": "code",
      "metadata": {
        "colab": {
          "base_uri": "https://localhost:8080/"
        },
        "id": "C6eHL9IVh8WP",
        "outputId": "cfe08f85-f229-4534-c816-e9a63ffdad0b"
      },
      "source": [
        "list_angka.remove(list_angka[1])\n",
        "list_angka"
      ],
      "execution_count": 12,
      "outputs": [
        {
          "output_type": "execute_result",
          "data": {
            "text/plain": [
              "[9, 4]"
            ]
          },
          "metadata": {},
          "execution_count": 12
        }
      ]
    },
    {
      "cell_type": "code",
      "metadata": {
        "colab": {
          "base_uri": "https://localhost:8080/"
        },
        "id": "Y2RyiIxqiCMK",
        "outputId": "5d704073-e61b-444f-dd8d-cf98b6980d77"
      },
      "source": [
        "# Set\n",
        "list_angka = [9,7,4,1,7]\n",
        "list_angka"
      ],
      "execution_count": 13,
      "outputs": [
        {
          "output_type": "execute_result",
          "data": {
            "text/plain": [
              "[9, 7, 4, 1, 7]"
            ]
          },
          "metadata": {},
          "execution_count": 13
        }
      ]
    },
    {
      "cell_type": "code",
      "metadata": {
        "colab": {
          "base_uri": "https://localhost:8080/"
        },
        "id": "p3EY38VriLev",
        "outputId": "2ef4cb56-5289-41e9-f56a-dec681827be6"
      },
      "source": [
        "set_angka = set(list_angka)\n",
        "set_angka"
      ],
      "execution_count": 14,
      "outputs": [
        {
          "output_type": "execute_result",
          "data": {
            "text/plain": [
              "{1, 4, 7, 9}"
            ]
          },
          "metadata": {},
          "execution_count": 14
        }
      ]
    },
    {
      "cell_type": "code",
      "metadata": {
        "colab": {
          "base_uri": "https://localhost:8080/"
        },
        "id": "ha8uKmotiPrW",
        "outputId": "1f05ce49-a0dd-4c73-81f4-5c57fc015862"
      },
      "source": [
        "list_angka = list(set_angka)\n",
        "list_angka"
      ],
      "execution_count": 15,
      "outputs": [
        {
          "output_type": "execute_result",
          "data": {
            "text/plain": [
              "[9, 4, 1, 7]"
            ]
          },
          "metadata": {},
          "execution_count": 15
        }
      ]
    },
    {
      "cell_type": "code",
      "metadata": {
        "colab": {
          "base_uri": "https://localhost:8080/"
        },
        "id": "7r8Ji3fviaFY",
        "outputId": "0e02cf60-d6d3-4994-b7bb-16634d00a09a"
      },
      "source": [
        "# Tuple\n",
        "tuple_angka = (1,3,5,7,9,7)\n",
        "tuple_angka[0]"
      ],
      "execution_count": 16,
      "outputs": [
        {
          "output_type": "execute_result",
          "data": {
            "text/plain": [
              "1"
            ]
          },
          "metadata": {},
          "execution_count": 16
        }
      ]
    },
    {
      "cell_type": "code",
      "metadata": {
        "id": "59_saYnsiySH"
      },
      "source": [
        "contoh_dict = {2:\"Alvin\", \"Dua belas\":12, False:12.0, 3.0:['David', 'Dian'], \"Dict\":{}, 333:(), \"Boolean\":True} "
      ],
      "execution_count": 17,
      "outputs": []
    },
    {
      "cell_type": "code",
      "metadata": {
        "id": "JYbxhxzOi7g2"
      },
      "source": [
        "contoh_dict[\"Alvin Buana\"] = [100]"
      ],
      "execution_count": 20,
      "outputs": []
    },
    {
      "cell_type": "code",
      "metadata": {
        "colab": {
          "base_uri": "https://localhost:8080/"
        },
        "id": "JuToNw0RjArm",
        "outputId": "aa39c82a-1cff-4653-8683-2c046b48bef7"
      },
      "source": [
        "print(contoh_dict)"
      ],
      "execution_count": 21,
      "outputs": [
        {
          "output_type": "stream",
          "name": "stdout",
          "text": [
            "{2: 'Alvin', 'Dua belas': 12, False: 12.0, 3.0: ['David', 'Dian'], 'Dict': {}, 333: (), 'Boolean': True, 'Alvin Buana': [100]}\n"
          ]
        }
      ]
    },
    {
      "cell_type": "code",
      "metadata": {
        "colab": {
          "base_uri": "https://localhost:8080/"
        },
        "id": "eaG_K_8rjEew",
        "outputId": "87e3da4b-cf29-4988-af4d-e2f06c55a52e"
      },
      "source": [
        "contoh_dict[\"Alvin Buana\"].append(200)\n",
        "print(contoh_dict)"
      ],
      "execution_count": 22,
      "outputs": [
        {
          "output_type": "stream",
          "name": "stdout",
          "text": [
            "{2: 'Alvin', 'Dua belas': 12, False: 12.0, 3.0: ['David', 'Dian'], 'Dict': {}, 333: (), 'Boolean': True, 'Alvin Buana': [100, 200]}\n"
          ]
        }
      ]
    },
    {
      "cell_type": "code",
      "metadata": {
        "id": "Q9dloD2ikzSH"
      },
      "source": [
        "#Mengosongkan data yg di key \"Alvin Buana\"\n",
        "contoh_dict[\"Alvin Buana\"] = None"
      ],
      "execution_count": null,
      "outputs": []
    },
    {
      "cell_type": "code",
      "metadata": {
        "id": "TiBWQOVBj3ZS"
      },
      "source": [
        "# delete key alvin buana beserta datanya\n",
        "# contoh_dict.pop(\"Alvin Buana\")\n",
        "del contoh_dict[\"Alvin Buana\"]\n",
        "print(contoh_dict)"
      ],
      "execution_count": null,
      "outputs": []
    },
    {
      "cell_type": "code",
      "metadata": {
        "colab": {
          "base_uri": "https://localhost:8080/"
        },
        "id": "TP0OOVGTk7oA",
        "outputId": "d719378d-83c2-40f4-9c44-d2fac3f45335"
      },
      "source": [
        "# Looping\n",
        "for i in range(10):\n",
        "  print(\"Hai ke-{}\".format(i))"
      ],
      "execution_count": 27,
      "outputs": [
        {
          "output_type": "stream",
          "name": "stdout",
          "text": [
            "Hai ke-0\n",
            "Hai ke-1\n",
            "Hai ke-2\n",
            "Hai ke-3\n",
            "Hai ke-4\n",
            "Hai ke-5\n",
            "Hai ke-6\n",
            "Hai ke-7\n",
            "Hai ke-8\n",
            "Hai ke-9\n"
          ]
        }
      ]
    },
    {
      "cell_type": "code",
      "metadata": {
        "colab": {
          "base_uri": "https://localhost:8080/"
        },
        "id": "vZh2bW0FlUJa",
        "outputId": "a6e3a33e-41f4-4e4f-cd05-39ca8715644a"
      },
      "source": [
        "for i in range(0,25,3):\n",
        "  print(i)"
      ],
      "execution_count": 26,
      "outputs": [
        {
          "output_type": "stream",
          "name": "stdout",
          "text": [
            "0\n",
            "3\n",
            "6\n",
            "9\n",
            "12\n",
            "15\n",
            "18\n",
            "21\n",
            "24\n"
          ]
        }
      ]
    },
    {
      "cell_type": "code",
      "metadata": {
        "colab": {
          "base_uri": "https://localhost:8080/"
        },
        "id": "yFK2t4T5lZNm",
        "outputId": "d6debc56-ae51-48c3-c30b-380d36d51e4e"
      },
      "source": [
        "# while looping -> forever loop\n",
        "a = 0\n",
        "while a<20:\n",
        "  print(\"a masih lebih kecil dari 20 {}\".format(a))\n",
        "  a +=1"
      ],
      "execution_count": 28,
      "outputs": [
        {
          "output_type": "stream",
          "name": "stdout",
          "text": [
            "a masih lebih kecil dari 20 0\n",
            "a masih lebih kecil dari 20 1\n",
            "a masih lebih kecil dari 20 2\n",
            "a masih lebih kecil dari 20 3\n",
            "a masih lebih kecil dari 20 4\n",
            "a masih lebih kecil dari 20 5\n",
            "a masih lebih kecil dari 20 6\n",
            "a masih lebih kecil dari 20 7\n",
            "a masih lebih kecil dari 20 8\n",
            "a masih lebih kecil dari 20 9\n",
            "a masih lebih kecil dari 20 10\n",
            "a masih lebih kecil dari 20 11\n",
            "a masih lebih kecil dari 20 12\n",
            "a masih lebih kecil dari 20 13\n",
            "a masih lebih kecil dari 20 14\n",
            "a masih lebih kecil dari 20 15\n",
            "a masih lebih kecil dari 20 16\n",
            "a masih lebih kecil dari 20 17\n",
            "a masih lebih kecil dari 20 18\n",
            "a masih lebih kecil dari 20 19\n"
          ]
        }
      ]
    },
    {
      "cell_type": "code",
      "metadata": {
        "colab": {
          "base_uri": "https://localhost:8080/"
        },
        "id": "Nwk_I-a5mJ7g",
        "outputId": "3b694736-dfcf-47cc-a9e0-7f4c4713cdf1"
      },
      "source": [
        "# Umur user yang diinput tidak boleh dibawah 17\n",
        "while True:\n",
        "  umur = int(input())\n",
        "  if umur >=17:\n",
        "    break"
      ],
      "execution_count": 29,
      "outputs": [
        {
          "name": "stdout",
          "output_type": "stream",
          "text": [
            "12\n",
            "14\n",
            "16\n",
            "17\n"
          ]
        }
      ]
    },
    {
      "cell_type": "code",
      "metadata": {
        "colab": {
          "base_uri": "https://localhost:8080/"
        },
        "id": "pQPwwDNpmm4e",
        "outputId": "4a943dd9-abf3-404c-c150-d80698f731dc"
      },
      "source": [
        "while True:\n",
        "  umur = int(input())\n",
        "  if umur == 17:\n",
        "    continue\n",
        "  elif umur > 17:\n",
        "    break\n",
        "  print(\"jika dibawah umur 17 aku muncul\")"
      ],
      "execution_count": 30,
      "outputs": [
        {
          "name": "stdout",
          "output_type": "stream",
          "text": [
            "15\n",
            "jika dibawah umur 17 aku muncul\n",
            "16\n",
            "jika dibawah umur 17 aku muncul\n",
            "17\n",
            "18\n"
          ]
        }
      ]
    },
    {
      "cell_type": "code",
      "metadata": {
        "colab": {
          "base_uri": "https://localhost:8080/"
        },
        "id": "HUzquUKAnDze",
        "outputId": "ed24deb8-8500-47e7-d16a-b0b9033b1c53"
      },
      "source": [
        "# for else\n",
        "for i in range(0,20,1):\n",
        "  print(i)\n",
        "  if i == 2:\n",
        "    break\n",
        "else:\n",
        "  print(\"Aku akan muncul jika break tidak tereksekusi\")"
      ],
      "execution_count": 34,
      "outputs": [
        {
          "output_type": "stream",
          "name": "stdout",
          "text": [
            "0\n",
            "1\n",
            "2\n"
          ]
        }
      ]
    },
    {
      "cell_type": "code",
      "metadata": {
        "id": "5yS-dJ0kniql"
      },
      "source": [
        "# Function\n",
        "def nilai_terbesar_dari_dua_nilai(a,b):\n",
        "  #masukan code kalian disini\n",
        "  if a > b:\n",
        "    return a\n",
        "  else:\n",
        "    return b"
      ],
      "execution_count": 35,
      "outputs": []
    },
    {
      "cell_type": "code",
      "metadata": {
        "id": "iZOc8uLYoI83"
      },
      "source": [
        "nilai_terbesar = nilai_terbesar_dari_dua_nilai(3,10)"
      ],
      "execution_count": 38,
      "outputs": []
    },
    {
      "cell_type": "code",
      "metadata": {
        "colab": {
          "base_uri": "https://localhost:8080/"
        },
        "id": "B_knRjA1o8_1",
        "outputId": "8cd56feb-3b1b-4e36-ff46-6c2487e31a9c"
      },
      "source": [
        "nilai_terbesar+20"
      ],
      "execution_count": 39,
      "outputs": [
        {
          "output_type": "execute_result",
          "data": {
            "text/plain": [
              "30"
            ]
          },
          "metadata": {},
          "execution_count": 39
        }
      ]
    },
    {
      "cell_type": "code",
      "metadata": {
        "colab": {
          "base_uri": "https://localhost:8080/"
        },
        "id": "ZJAfQr1fpDnu",
        "outputId": "d83aa8b9-daf4-49a0-cce4-0251172af4d7"
      },
      "source": [
        "contoh_list = [nilai_terbesar_dari_dua_nilai]\n",
        "contoh_list[0](3,10)"
      ],
      "execution_count": 40,
      "outputs": [
        {
          "output_type": "execute_result",
          "data": {
            "text/plain": [
              "10"
            ]
          },
          "metadata": {},
          "execution_count": 40
        }
      ]
    }
  ]
}